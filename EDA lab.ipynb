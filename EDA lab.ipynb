{
 "cells": [
  {
   "cell_type": "code",
   "execution_count": 2,
   "id": "75dcce86-f869-4887-8539-817a1159b9d4",
   "metadata": {},
   "outputs": [],
   "source": [
    "import pandas as pd\n",
    "import matplotlib.pyplot as plt\n",
    "import seaborn as sns\n",
    "import numpy as np\n",
    "\n",
    "%matplotlib inline"
   ]
  },
  {
   "cell_type": "code",
   "execution_count": 4,
   "id": "9ecc467f-5018-4079-8c3f-8b36c7cbe153",
   "metadata": {},
   "outputs": [],
   "source": [
    "\n",
    "df = pd.read_csv(\"C:/Users/atakp/Documents/GitHub/amz_uk_price_prediction_dataset.csv\")"
   ]
  },
  {
   "cell_type": "code",
   "execution_count": 9,
   "id": "b73f88c0-4349-474d-9621-f39580adb3eb",
   "metadata": {},
   "outputs": [
    {
     "data": {
      "text/html": [
       "<div>\n",
       "<style scoped>\n",
       "    .dataframe tbody tr th:only-of-type {\n",
       "        vertical-align: middle;\n",
       "    }\n",
       "\n",
       "    .dataframe tbody tr th {\n",
       "        vertical-align: top;\n",
       "    }\n",
       "\n",
       "    .dataframe thead th {\n",
       "        text-align: right;\n",
       "    }\n",
       "</style>\n",
       "<table border=\"1\" class=\"dataframe\">\n",
       "  <thead>\n",
       "    <tr style=\"text-align: right;\">\n",
       "      <th></th>\n",
       "      <th>uid</th>\n",
       "      <th>asin</th>\n",
       "      <th>title</th>\n",
       "      <th>stars</th>\n",
       "      <th>reviews</th>\n",
       "      <th>price</th>\n",
       "      <th>isBestSeller</th>\n",
       "      <th>boughtInLastMonth</th>\n",
       "      <th>category</th>\n",
       "    </tr>\n",
       "  </thead>\n",
       "  <tbody>\n",
       "    <tr>\n",
       "      <th>0</th>\n",
       "      <td>1</td>\n",
       "      <td>B09B96TG33</td>\n",
       "      <td>Echo Dot (5th generation, 2022 release) | Big ...</td>\n",
       "      <td>4.7</td>\n",
       "      <td>15308</td>\n",
       "      <td>21.99</td>\n",
       "      <td>False</td>\n",
       "      <td>0</td>\n",
       "      <td>Hi-Fi Speakers</td>\n",
       "    </tr>\n",
       "    <tr>\n",
       "      <th>1</th>\n",
       "      <td>2</td>\n",
       "      <td>B01HTH3C8S</td>\n",
       "      <td>Anker Soundcore mini, Super-Portable Bluetooth...</td>\n",
       "      <td>4.7</td>\n",
       "      <td>98099</td>\n",
       "      <td>23.99</td>\n",
       "      <td>True</td>\n",
       "      <td>0</td>\n",
       "      <td>Hi-Fi Speakers</td>\n",
       "    </tr>\n",
       "    <tr>\n",
       "      <th>2</th>\n",
       "      <td>3</td>\n",
       "      <td>B09B8YWXDF</td>\n",
       "      <td>Echo Dot (5th generation, 2022 release) | Big ...</td>\n",
       "      <td>4.7</td>\n",
       "      <td>15308</td>\n",
       "      <td>21.99</td>\n",
       "      <td>False</td>\n",
       "      <td>0</td>\n",
       "      <td>Hi-Fi Speakers</td>\n",
       "    </tr>\n",
       "    <tr>\n",
       "      <th>3</th>\n",
       "      <td>4</td>\n",
       "      <td>B09B8T5VGV</td>\n",
       "      <td>Echo Dot with clock (5th generation, 2022 rele...</td>\n",
       "      <td>4.7</td>\n",
       "      <td>7205</td>\n",
       "      <td>31.99</td>\n",
       "      <td>False</td>\n",
       "      <td>0</td>\n",
       "      <td>Hi-Fi Speakers</td>\n",
       "    </tr>\n",
       "    <tr>\n",
       "      <th>4</th>\n",
       "      <td>5</td>\n",
       "      <td>B09WX6QD65</td>\n",
       "      <td>Introducing Echo Pop | Full sound compact Wi-F...</td>\n",
       "      <td>4.6</td>\n",
       "      <td>1881</td>\n",
       "      <td>17.99</td>\n",
       "      <td>False</td>\n",
       "      <td>0</td>\n",
       "      <td>Hi-Fi Speakers</td>\n",
       "    </tr>\n",
       "    <tr>\n",
       "      <th>5</th>\n",
       "      <td>6</td>\n",
       "      <td>B09B97WSLF</td>\n",
       "      <td>Echo Dot with clock (5th generation, 2022 rele...</td>\n",
       "      <td>4.7</td>\n",
       "      <td>7205</td>\n",
       "      <td>31.99</td>\n",
       "      <td>False</td>\n",
       "      <td>0</td>\n",
       "      <td>Hi-Fi Speakers</td>\n",
       "    </tr>\n",
       "    <tr>\n",
       "      <th>6</th>\n",
       "      <td>7</td>\n",
       "      <td>B09B9615X2</td>\n",
       "      <td>Echo Dot (5th generation, 2022 release) | Big ...</td>\n",
       "      <td>4.7</td>\n",
       "      <td>15308</td>\n",
       "      <td>21.99</td>\n",
       "      <td>False</td>\n",
       "      <td>0</td>\n",
       "      <td>Hi-Fi Speakers</td>\n",
       "    </tr>\n",
       "    <tr>\n",
       "      <th>7</th>\n",
       "      <td>8</td>\n",
       "      <td>B01MTB55WH</td>\n",
       "      <td>Anker Soundcore 2 Portable Bluetooth Speaker w...</td>\n",
       "      <td>4.7</td>\n",
       "      <td>103673</td>\n",
       "      <td>39.99</td>\n",
       "      <td>False</td>\n",
       "      <td>0</td>\n",
       "      <td>Hi-Fi Speakers</td>\n",
       "    </tr>\n",
       "    <tr>\n",
       "      <th>8</th>\n",
       "      <td>9</td>\n",
       "      <td>B016MO90GW</td>\n",
       "      <td>Bluetooth Speaker, Anker Soundcore Speaker Upg...</td>\n",
       "      <td>4.7</td>\n",
       "      <td>29909</td>\n",
       "      <td>29.99</td>\n",
       "      <td>False</td>\n",
       "      <td>0</td>\n",
       "      <td>Hi-Fi Speakers</td>\n",
       "    </tr>\n",
       "    <tr>\n",
       "      <th>9</th>\n",
       "      <td>10</td>\n",
       "      <td>B09ZQF5GZW</td>\n",
       "      <td>RIENOK Bluetooth Speaker Portable Wireless Blu...</td>\n",
       "      <td>4.5</td>\n",
       "      <td>16014</td>\n",
       "      <td>29.99</td>\n",
       "      <td>False</td>\n",
       "      <td>0</td>\n",
       "      <td>Hi-Fi Speakers</td>\n",
       "    </tr>\n",
       "    <tr>\n",
       "      <th>10</th>\n",
       "      <td>11</td>\n",
       "      <td>B08VDNCZT9</td>\n",
       "      <td>JBL Charge 5 - Portable Bluetooth Speaker with...</td>\n",
       "      <td>4.8</td>\n",
       "      <td>11920</td>\n",
       "      <td>139.00</td>\n",
       "      <td>False</td>\n",
       "      <td>0</td>\n",
       "      <td>Hi-Fi Speakers</td>\n",
       "    </tr>\n",
       "    <tr>\n",
       "      <th>11</th>\n",
       "      <td>12</td>\n",
       "      <td>B09ZX9NP2W</td>\n",
       "      <td>Introducing Echo Pop | Full sound compact Wi-F...</td>\n",
       "      <td>4.6</td>\n",
       "      <td>1881</td>\n",
       "      <td>17.99</td>\n",
       "      <td>False</td>\n",
       "      <td>0</td>\n",
       "      <td>Hi-Fi Speakers</td>\n",
       "    </tr>\n",
       "    <tr>\n",
       "      <th>12</th>\n",
       "      <td>13</td>\n",
       "      <td>B09ZXDMNCY</td>\n",
       "      <td>Introducing Echo Pop | Full sound compact Wi-F...</td>\n",
       "      <td>4.6</td>\n",
       "      <td>1881</td>\n",
       "      <td>17.99</td>\n",
       "      <td>False</td>\n",
       "      <td>0</td>\n",
       "      <td>Hi-Fi Speakers</td>\n",
       "    </tr>\n",
       "    <tr>\n",
       "      <th>13</th>\n",
       "      <td>14</td>\n",
       "      <td>B09B2R18PG</td>\n",
       "      <td>All-new Echo Show 5 (3rd Gen, 2023 release) | ...</td>\n",
       "      <td>4.5</td>\n",
       "      <td>726</td>\n",
       "      <td>49.99</td>\n",
       "      <td>False</td>\n",
       "      <td>0</td>\n",
       "      <td>Hi-Fi Speakers</td>\n",
       "    </tr>\n",
       "    <tr>\n",
       "      <th>14</th>\n",
       "      <td>15</td>\n",
       "      <td>B084TNK1NL</td>\n",
       "      <td>Echo Show 8 | 2nd generation (2021 release), H...</td>\n",
       "      <td>4.7</td>\n",
       "      <td>18333</td>\n",
       "      <td>64.99</td>\n",
       "      <td>False</td>\n",
       "      <td>0</td>\n",
       "      <td>Hi-Fi Speakers</td>\n",
       "    </tr>\n",
       "    <tr>\n",
       "      <th>15</th>\n",
       "      <td>16</td>\n",
       "      <td>B09B97BPSW</td>\n",
       "      <td>Echo Dot Kids (5th generation, 2022 release) |...</td>\n",
       "      <td>4.6</td>\n",
       "      <td>1017</td>\n",
       "      <td>26.99</td>\n",
       "      <td>True</td>\n",
       "      <td>0</td>\n",
       "      <td>Hi-Fi Speakers</td>\n",
       "    </tr>\n",
       "    <tr>\n",
       "      <th>16</th>\n",
       "      <td>17</td>\n",
       "      <td>B08YF1T4SW</td>\n",
       "      <td>Sony SRS-XB13 - Compact and Portable Waterproo...</td>\n",
       "      <td>4.6</td>\n",
       "      <td>6367</td>\n",
       "      <td>39.00</td>\n",
       "      <td>False</td>\n",
       "      <td>0</td>\n",
       "      <td>Hi-Fi Speakers</td>\n",
       "    </tr>\n",
       "    <tr>\n",
       "      <th>17</th>\n",
       "      <td>18</td>\n",
       "      <td>B09B8XRZYB</td>\n",
       "      <td>Echo Dot Kids (5th generation, 2022 release) |...</td>\n",
       "      <td>4.6</td>\n",
       "      <td>1017</td>\n",
       "      <td>26.99</td>\n",
       "      <td>True</td>\n",
       "      <td>0</td>\n",
       "      <td>Hi-Fi Speakers</td>\n",
       "    </tr>\n",
       "    <tr>\n",
       "      <th>18</th>\n",
       "      <td>19</td>\n",
       "      <td>B09B2SS2G1</td>\n",
       "      <td>All-new Echo Show 5 (3rd Gen, 2023 release) | ...</td>\n",
       "      <td>4.5</td>\n",
       "      <td>726</td>\n",
       "      <td>49.99</td>\n",
       "      <td>False</td>\n",
       "      <td>0</td>\n",
       "      <td>Hi-Fi Speakers</td>\n",
       "    </tr>\n",
       "    <tr>\n",
       "      <th>19</th>\n",
       "      <td>20</td>\n",
       "      <td>B07NQCKJSH</td>\n",
       "      <td>Echo Studio | Our best-sounding Wi-Fi and Blue...</td>\n",
       "      <td>4.5</td>\n",
       "      <td>14222</td>\n",
       "      <td>164.99</td>\n",
       "      <td>False</td>\n",
       "      <td>0</td>\n",
       "      <td>Hi-Fi Speakers</td>\n",
       "    </tr>\n",
       "    <tr>\n",
       "      <th>20</th>\n",
       "      <td>21</td>\n",
       "      <td>B08BCHKY52</td>\n",
       "      <td>soundcore 3 Bluetooth Speaker by Anker with St...</td>\n",
       "      <td>4.6</td>\n",
       "      <td>9273</td>\n",
       "      <td>55.99</td>\n",
       "      <td>False</td>\n",
       "      <td>0</td>\n",
       "      <td>Hi-Fi Speakers</td>\n",
       "    </tr>\n",
       "    <tr>\n",
       "      <th>21</th>\n",
       "      <td>22</td>\n",
       "      <td>B08FB2H6Y4</td>\n",
       "      <td>JBL GO 3 - Wireless Bluetooth portable speaker...</td>\n",
       "      <td>4.8</td>\n",
       "      <td>59668</td>\n",
       "      <td>34.80</td>\n",
       "      <td>False</td>\n",
       "      <td>0</td>\n",
       "      <td>Hi-Fi Speakers</td>\n",
       "    </tr>\n",
       "    <tr>\n",
       "      <th>22</th>\n",
       "      <td>23</td>\n",
       "      <td>B084TNGZHJ</td>\n",
       "      <td>Echo Show 8 | 2nd generation (2021 release), H...</td>\n",
       "      <td>4.7</td>\n",
       "      <td>18333</td>\n",
       "      <td>64.99</td>\n",
       "      <td>False</td>\n",
       "      <td>0</td>\n",
       "      <td>Hi-Fi Speakers</td>\n",
       "    </tr>\n",
       "    <tr>\n",
       "      <th>23</th>\n",
       "      <td>24</td>\n",
       "      <td>B09HGRXXTM</td>\n",
       "      <td>JBL Flip 6 Portable Bluetooth Speaker with 2-w...</td>\n",
       "      <td>4.7</td>\n",
       "      <td>8700</td>\n",
       "      <td>98.95</td>\n",
       "      <td>False</td>\n",
       "      <td>0</td>\n",
       "      <td>Hi-Fi Speakers</td>\n",
       "    </tr>\n",
       "    <tr>\n",
       "      <th>24</th>\n",
       "      <td>25</td>\n",
       "      <td>B09B2RV31Z</td>\n",
       "      <td>All-new Echo Show 5 (3rd generation) I Compact...</td>\n",
       "      <td>4.5</td>\n",
       "      <td>726</td>\n",
       "      <td>49.99</td>\n",
       "      <td>False</td>\n",
       "      <td>0</td>\n",
       "      <td>Hi-Fi Speakers</td>\n",
       "    </tr>\n",
       "    <tr>\n",
       "      <th>25</th>\n",
       "      <td>26</td>\n",
       "      <td>B0BLS36M5R</td>\n",
       "      <td>All-new Echo Show 8 | 3rd generation (2023 rel...</td>\n",
       "      <td>0.0</td>\n",
       "      <td>0</td>\n",
       "      <td>149.99</td>\n",
       "      <td>False</td>\n",
       "      <td>0</td>\n",
       "      <td>Hi-Fi Speakers</td>\n",
       "    </tr>\n",
       "    <tr>\n",
       "      <th>26</th>\n",
       "      <td>27</td>\n",
       "      <td>B07PDJ9JFF</td>\n",
       "      <td>Echo Flex – Voice control smart home devices w...</td>\n",
       "      <td>4.5</td>\n",
       "      <td>21614</td>\n",
       "      <td>9.99</td>\n",
       "      <td>False</td>\n",
       "      <td>0</td>\n",
       "      <td>Hi-Fi Speakers</td>\n",
       "    </tr>\n",
       "    <tr>\n",
       "      <th>27</th>\n",
       "      <td>28</td>\n",
       "      <td>B07QK18BNY</td>\n",
       "      <td>JBL FLIP 5 Portable Waterproof Bluetooth Speak...</td>\n",
       "      <td>4.7</td>\n",
       "      <td>6387</td>\n",
       "      <td>79.99</td>\n",
       "      <td>False</td>\n",
       "      <td>0</td>\n",
       "      <td>Hi-Fi Speakers</td>\n",
       "    </tr>\n",
       "    <tr>\n",
       "      <th>28</th>\n",
       "      <td>29</td>\n",
       "      <td>B096G3R7C3</td>\n",
       "      <td>JBL PartyBox110 Portable Indoor and Outdoor Pa...</td>\n",
       "      <td>4.8</td>\n",
       "      <td>153</td>\n",
       "      <td>289.00</td>\n",
       "      <td>False</td>\n",
       "      <td>0</td>\n",
       "      <td>Hi-Fi Speakers</td>\n",
       "    </tr>\n",
       "    <tr>\n",
       "      <th>29</th>\n",
       "      <td>30</td>\n",
       "      <td>B01N4V4X5M</td>\n",
       "      <td>Upgraded, Anker Soundcore Boost Bluetooth Spea...</td>\n",
       "      <td>4.7</td>\n",
       "      <td>29387</td>\n",
       "      <td>39.98</td>\n",
       "      <td>False</td>\n",
       "      <td>600</td>\n",
       "      <td>Hi-Fi Speakers</td>\n",
       "    </tr>\n",
       "    <tr>\n",
       "      <th>30</th>\n",
       "      <td>31</td>\n",
       "      <td>B08QF9F8BC</td>\n",
       "      <td>Ortizan Bluetooth Speaker, Portable Wireless B...</td>\n",
       "      <td>4.4</td>\n",
       "      <td>17612</td>\n",
       "      <td>35.99</td>\n",
       "      <td>False</td>\n",
       "      <td>0</td>\n",
       "      <td>Hi-Fi Speakers</td>\n",
       "    </tr>\n",
       "    <tr>\n",
       "      <th>31</th>\n",
       "      <td>32</td>\n",
       "      <td>B08MQRDDYB</td>\n",
       "      <td>Echo Show 15 | Full HD 15.6\" smart display wit...</td>\n",
       "      <td>4.4</td>\n",
       "      <td>2616</td>\n",
       "      <td>199.99</td>\n",
       "      <td>False</td>\n",
       "      <td>0</td>\n",
       "      <td>Hi-Fi Speakers</td>\n",
       "    </tr>\n",
       "    <tr>\n",
       "      <th>32</th>\n",
       "      <td>33</td>\n",
       "      <td>B07WVP26FR</td>\n",
       "      <td>Kolaura Portable Wireless Speaker, Bluetooth 5...</td>\n",
       "      <td>4.4</td>\n",
       "      <td>2493</td>\n",
       "      <td>15.99</td>\n",
       "      <td>False</td>\n",
       "      <td>1000</td>\n",
       "      <td>Hi-Fi Speakers</td>\n",
       "    </tr>\n",
       "    <tr>\n",
       "      <th>33</th>\n",
       "      <td>34</td>\n",
       "      <td>B079DD19ZT</td>\n",
       "      <td>Sony HT-SF150 2ch Single Soundbar with Bluetoo...</td>\n",
       "      <td>4.3</td>\n",
       "      <td>2391</td>\n",
       "      <td>128.00</td>\n",
       "      <td>False</td>\n",
       "      <td>0</td>\n",
       "      <td>Hi-Fi Speakers</td>\n",
       "    </tr>\n",
       "    <tr>\n",
       "      <th>34</th>\n",
       "      <td>35</td>\n",
       "      <td>B0BXQ1Q6NK</td>\n",
       "      <td>Samsung Q990C Soundbar Speaker (2023) - 22 Spe...</td>\n",
       "      <td>4.8</td>\n",
       "      <td>13</td>\n",
       "      <td>959.99</td>\n",
       "      <td>False</td>\n",
       "      <td>0</td>\n",
       "      <td>Hi-Fi Speakers</td>\n",
       "    </tr>\n",
       "    <tr>\n",
       "      <th>35</th>\n",
       "      <td>36</td>\n",
       "      <td>B099TJGJ91</td>\n",
       "      <td>Bose SoundLink Flex Bluetooth Portable Speaker...</td>\n",
       "      <td>4.8</td>\n",
       "      <td>11692</td>\n",
       "      <td>149.00</td>\n",
       "      <td>False</td>\n",
       "      <td>0</td>\n",
       "      <td>Hi-Fi Speakers</td>\n",
       "    </tr>\n",
       "    <tr>\n",
       "      <th>36</th>\n",
       "      <td>37</td>\n",
       "      <td>B08L84ST93</td>\n",
       "      <td>Bose Solo Soundbar Series II - TV Speaker with...</td>\n",
       "      <td>4.6</td>\n",
       "      <td>2799</td>\n",
       "      <td>169.00</td>\n",
       "      <td>True</td>\n",
       "      <td>0</td>\n",
       "      <td>Hi-Fi Speakers</td>\n",
       "    </tr>\n",
       "    <tr>\n",
       "      <th>37</th>\n",
       "      <td>38</td>\n",
       "      <td>B0BXQ3DQW5</td>\n",
       "      <td>Samsung Q700C Soundbar Speaker (2023) - 9 Spea...</td>\n",
       "      <td>4.7</td>\n",
       "      <td>15</td>\n",
       "      <td>368.99</td>\n",
       "      <td>False</td>\n",
       "      <td>0</td>\n",
       "      <td>Hi-Fi Speakers</td>\n",
       "    </tr>\n",
       "    <tr>\n",
       "      <th>38</th>\n",
       "      <td>39</td>\n",
       "      <td>B0B3XX8P9C</td>\n",
       "      <td>JBL Flip Essential 2 Portable Bluetooth Speake...</td>\n",
       "      <td>4.7</td>\n",
       "      <td>2452</td>\n",
       "      <td>74.99</td>\n",
       "      <td>False</td>\n",
       "      <td>0</td>\n",
       "      <td>Hi-Fi Speakers</td>\n",
       "    </tr>\n",
       "    <tr>\n",
       "      <th>39</th>\n",
       "      <td>40</td>\n",
       "      <td>B08HRWSYH6</td>\n",
       "      <td>JBL Clip 4 - Bluetooth portable speaker with i...</td>\n",
       "      <td>4.8</td>\n",
       "      <td>8625</td>\n",
       "      <td>39.95</td>\n",
       "      <td>False</td>\n",
       "      <td>0</td>\n",
       "      <td>Hi-Fi Speakers</td>\n",
       "    </tr>\n",
       "    <tr>\n",
       "      <th>40</th>\n",
       "      <td>41</td>\n",
       "      <td>B084P3KP2R</td>\n",
       "      <td>Echo Show 10 (3rd generation) | HD smart displ...</td>\n",
       "      <td>4.5</td>\n",
       "      <td>5053</td>\n",
       "      <td>184.99</td>\n",
       "      <td>False</td>\n",
       "      <td>0</td>\n",
       "      <td>Hi-Fi Speakers</td>\n",
       "    </tr>\n",
       "    <tr>\n",
       "      <th>41</th>\n",
       "      <td>42</td>\n",
       "      <td>B00ANI7HI2</td>\n",
       "      <td>Jabra Speak 510 Speaker — Portable Bluetooth S...</td>\n",
       "      <td>4.7</td>\n",
       "      <td>5422</td>\n",
       "      <td>95.00</td>\n",
       "      <td>False</td>\n",
       "      <td>0</td>\n",
       "      <td>Hi-Fi Speakers</td>\n",
       "    </tr>\n",
       "    <tr>\n",
       "      <th>42</th>\n",
       "      <td>43</td>\n",
       "      <td>B08YDZRXGN</td>\n",
       "      <td>Sony SRS-XB13 - Compact &amp; Portable Waterproof ...</td>\n",
       "      <td>4.7</td>\n",
       "      <td>2776</td>\n",
       "      <td>39.99</td>\n",
       "      <td>False</td>\n",
       "      <td>0</td>\n",
       "      <td>Hi-Fi Speakers</td>\n",
       "    </tr>\n",
       "    <tr>\n",
       "      <th>43</th>\n",
       "      <td>44</td>\n",
       "      <td>B081RQP7B9</td>\n",
       "      <td>W-KING Bluetooth Speaker, 30W Portable Wireles...</td>\n",
       "      <td>4.6</td>\n",
       "      <td>5622</td>\n",
       "      <td>38.39</td>\n",
       "      <td>False</td>\n",
       "      <td>0</td>\n",
       "      <td>Hi-Fi Speakers</td>\n",
       "    </tr>\n",
       "    <tr>\n",
       "      <th>44</th>\n",
       "      <td>45</td>\n",
       "      <td>B085G58KWT</td>\n",
       "      <td>Echo (4th generation) | Premium sound Wi-Fi an...</td>\n",
       "      <td>4.7</td>\n",
       "      <td>38692</td>\n",
       "      <td>49.99</td>\n",
       "      <td>False</td>\n",
       "      <td>0</td>\n",
       "      <td>Hi-Fi Speakers</td>\n",
       "    </tr>\n",
       "    <tr>\n",
       "      <th>45</th>\n",
       "      <td>46</td>\n",
       "      <td>B07F9NGRKF</td>\n",
       "      <td>EWA Travel Case Packed, A106 Pro Wireless Mini...</td>\n",
       "      <td>4.6</td>\n",
       "      <td>40628</td>\n",
       "      <td>17.99</td>\n",
       "      <td>False</td>\n",
       "      <td>0</td>\n",
       "      <td>Hi-Fi Speakers</td>\n",
       "    </tr>\n",
       "    <tr>\n",
       "      <th>46</th>\n",
       "      <td>47</td>\n",
       "      <td>B08LQNL42Z</td>\n",
       "      <td>soundcore Anker Motion Boom Portable Bluetooth...</td>\n",
       "      <td>4.7</td>\n",
       "      <td>18958</td>\n",
       "      <td>89.99</td>\n",
       "      <td>False</td>\n",
       "      <td>0</td>\n",
       "      <td>Hi-Fi Speakers</td>\n",
       "    </tr>\n",
       "    <tr>\n",
       "      <th>47</th>\n",
       "      <td>48</td>\n",
       "      <td>B07PCHL3ZZ</td>\n",
       "      <td>Bedside Lamp with Alarm Clock Bluetooth Speake...</td>\n",
       "      <td>4.5</td>\n",
       "      <td>2408</td>\n",
       "      <td>29.99</td>\n",
       "      <td>False</td>\n",
       "      <td>0</td>\n",
       "      <td>Hi-Fi Speakers</td>\n",
       "    </tr>\n",
       "    <tr>\n",
       "      <th>48</th>\n",
       "      <td>49</td>\n",
       "      <td>B0CD1H4NYH</td>\n",
       "      <td>ULTIMEA Dolby Atmos Sound Bar for TV, Soundbar...</td>\n",
       "      <td>4.5</td>\n",
       "      <td>239</td>\n",
       "      <td>129.99</td>\n",
       "      <td>False</td>\n",
       "      <td>0</td>\n",
       "      <td>Hi-Fi Speakers</td>\n",
       "    </tr>\n",
       "    <tr>\n",
       "      <th>49</th>\n",
       "      <td>50</td>\n",
       "      <td>B0BXPZ792G</td>\n",
       "      <td>Samsung Q930C Soundbar Speaker (2023) - 17 Spe...</td>\n",
       "      <td>4.1</td>\n",
       "      <td>7</td>\n",
       "      <td>628.50</td>\n",
       "      <td>False</td>\n",
       "      <td>0</td>\n",
       "      <td>Hi-Fi Speakers</td>\n",
       "    </tr>\n",
       "  </tbody>\n",
       "</table>\n",
       "</div>"
      ],
      "text/plain": [
       "    uid        asin                                              title  stars  \\\n",
       "0     1  B09B96TG33  Echo Dot (5th generation, 2022 release) | Big ...    4.7   \n",
       "1     2  B01HTH3C8S  Anker Soundcore mini, Super-Portable Bluetooth...    4.7   \n",
       "2     3  B09B8YWXDF  Echo Dot (5th generation, 2022 release) | Big ...    4.7   \n",
       "3     4  B09B8T5VGV  Echo Dot with clock (5th generation, 2022 rele...    4.7   \n",
       "4     5  B09WX6QD65  Introducing Echo Pop | Full sound compact Wi-F...    4.6   \n",
       "5     6  B09B97WSLF  Echo Dot with clock (5th generation, 2022 rele...    4.7   \n",
       "6     7  B09B9615X2  Echo Dot (5th generation, 2022 release) | Big ...    4.7   \n",
       "7     8  B01MTB55WH  Anker Soundcore 2 Portable Bluetooth Speaker w...    4.7   \n",
       "8     9  B016MO90GW  Bluetooth Speaker, Anker Soundcore Speaker Upg...    4.7   \n",
       "9    10  B09ZQF5GZW  RIENOK Bluetooth Speaker Portable Wireless Blu...    4.5   \n",
       "10   11  B08VDNCZT9  JBL Charge 5 - Portable Bluetooth Speaker with...    4.8   \n",
       "11   12  B09ZX9NP2W  Introducing Echo Pop | Full sound compact Wi-F...    4.6   \n",
       "12   13  B09ZXDMNCY  Introducing Echo Pop | Full sound compact Wi-F...    4.6   \n",
       "13   14  B09B2R18PG  All-new Echo Show 5 (3rd Gen, 2023 release) | ...    4.5   \n",
       "14   15  B084TNK1NL  Echo Show 8 | 2nd generation (2021 release), H...    4.7   \n",
       "15   16  B09B97BPSW  Echo Dot Kids (5th generation, 2022 release) |...    4.6   \n",
       "16   17  B08YF1T4SW  Sony SRS-XB13 - Compact and Portable Waterproo...    4.6   \n",
       "17   18  B09B8XRZYB  Echo Dot Kids (5th generation, 2022 release) |...    4.6   \n",
       "18   19  B09B2SS2G1  All-new Echo Show 5 (3rd Gen, 2023 release) | ...    4.5   \n",
       "19   20  B07NQCKJSH  Echo Studio | Our best-sounding Wi-Fi and Blue...    4.5   \n",
       "20   21  B08BCHKY52  soundcore 3 Bluetooth Speaker by Anker with St...    4.6   \n",
       "21   22  B08FB2H6Y4  JBL GO 3 - Wireless Bluetooth portable speaker...    4.8   \n",
       "22   23  B084TNGZHJ  Echo Show 8 | 2nd generation (2021 release), H...    4.7   \n",
       "23   24  B09HGRXXTM  JBL Flip 6 Portable Bluetooth Speaker with 2-w...    4.7   \n",
       "24   25  B09B2RV31Z  All-new Echo Show 5 (3rd generation) I Compact...    4.5   \n",
       "25   26  B0BLS36M5R  All-new Echo Show 8 | 3rd generation (2023 rel...    0.0   \n",
       "26   27  B07PDJ9JFF  Echo Flex – Voice control smart home devices w...    4.5   \n",
       "27   28  B07QK18BNY  JBL FLIP 5 Portable Waterproof Bluetooth Speak...    4.7   \n",
       "28   29  B096G3R7C3  JBL PartyBox110 Portable Indoor and Outdoor Pa...    4.8   \n",
       "29   30  B01N4V4X5M  Upgraded, Anker Soundcore Boost Bluetooth Spea...    4.7   \n",
       "30   31  B08QF9F8BC  Ortizan Bluetooth Speaker, Portable Wireless B...    4.4   \n",
       "31   32  B08MQRDDYB  Echo Show 15 | Full HD 15.6\" smart display wit...    4.4   \n",
       "32   33  B07WVP26FR  Kolaura Portable Wireless Speaker, Bluetooth 5...    4.4   \n",
       "33   34  B079DD19ZT  Sony HT-SF150 2ch Single Soundbar with Bluetoo...    4.3   \n",
       "34   35  B0BXQ1Q6NK  Samsung Q990C Soundbar Speaker (2023) - 22 Spe...    4.8   \n",
       "35   36  B099TJGJ91  Bose SoundLink Flex Bluetooth Portable Speaker...    4.8   \n",
       "36   37  B08L84ST93  Bose Solo Soundbar Series II - TV Speaker with...    4.6   \n",
       "37   38  B0BXQ3DQW5  Samsung Q700C Soundbar Speaker (2023) - 9 Spea...    4.7   \n",
       "38   39  B0B3XX8P9C  JBL Flip Essential 2 Portable Bluetooth Speake...    4.7   \n",
       "39   40  B08HRWSYH6  JBL Clip 4 - Bluetooth portable speaker with i...    4.8   \n",
       "40   41  B084P3KP2R  Echo Show 10 (3rd generation) | HD smart displ...    4.5   \n",
       "41   42  B00ANI7HI2  Jabra Speak 510 Speaker — Portable Bluetooth S...    4.7   \n",
       "42   43  B08YDZRXGN  Sony SRS-XB13 - Compact & Portable Waterproof ...    4.7   \n",
       "43   44  B081RQP7B9  W-KING Bluetooth Speaker, 30W Portable Wireles...    4.6   \n",
       "44   45  B085G58KWT  Echo (4th generation) | Premium sound Wi-Fi an...    4.7   \n",
       "45   46  B07F9NGRKF  EWA Travel Case Packed, A106 Pro Wireless Mini...    4.6   \n",
       "46   47  B08LQNL42Z  soundcore Anker Motion Boom Portable Bluetooth...    4.7   \n",
       "47   48  B07PCHL3ZZ  Bedside Lamp with Alarm Clock Bluetooth Speake...    4.5   \n",
       "48   49  B0CD1H4NYH  ULTIMEA Dolby Atmos Sound Bar for TV, Soundbar...    4.5   \n",
       "49   50  B0BXPZ792G  Samsung Q930C Soundbar Speaker (2023) - 17 Spe...    4.1   \n",
       "\n",
       "    reviews   price  isBestSeller  boughtInLastMonth        category  \n",
       "0     15308   21.99         False                  0  Hi-Fi Speakers  \n",
       "1     98099   23.99          True                  0  Hi-Fi Speakers  \n",
       "2     15308   21.99         False                  0  Hi-Fi Speakers  \n",
       "3      7205   31.99         False                  0  Hi-Fi Speakers  \n",
       "4      1881   17.99         False                  0  Hi-Fi Speakers  \n",
       "5      7205   31.99         False                  0  Hi-Fi Speakers  \n",
       "6     15308   21.99         False                  0  Hi-Fi Speakers  \n",
       "7    103673   39.99         False                  0  Hi-Fi Speakers  \n",
       "8     29909   29.99         False                  0  Hi-Fi Speakers  \n",
       "9     16014   29.99         False                  0  Hi-Fi Speakers  \n",
       "10    11920  139.00         False                  0  Hi-Fi Speakers  \n",
       "11     1881   17.99         False                  0  Hi-Fi Speakers  \n",
       "12     1881   17.99         False                  0  Hi-Fi Speakers  \n",
       "13      726   49.99         False                  0  Hi-Fi Speakers  \n",
       "14    18333   64.99         False                  0  Hi-Fi Speakers  \n",
       "15     1017   26.99          True                  0  Hi-Fi Speakers  \n",
       "16     6367   39.00         False                  0  Hi-Fi Speakers  \n",
       "17     1017   26.99          True                  0  Hi-Fi Speakers  \n",
       "18      726   49.99         False                  0  Hi-Fi Speakers  \n",
       "19    14222  164.99         False                  0  Hi-Fi Speakers  \n",
       "20     9273   55.99         False                  0  Hi-Fi Speakers  \n",
       "21    59668   34.80         False                  0  Hi-Fi Speakers  \n",
       "22    18333   64.99         False                  0  Hi-Fi Speakers  \n",
       "23     8700   98.95         False                  0  Hi-Fi Speakers  \n",
       "24      726   49.99         False                  0  Hi-Fi Speakers  \n",
       "25        0  149.99         False                  0  Hi-Fi Speakers  \n",
       "26    21614    9.99         False                  0  Hi-Fi Speakers  \n",
       "27     6387   79.99         False                  0  Hi-Fi Speakers  \n",
       "28      153  289.00         False                  0  Hi-Fi Speakers  \n",
       "29    29387   39.98         False                600  Hi-Fi Speakers  \n",
       "30    17612   35.99         False                  0  Hi-Fi Speakers  \n",
       "31     2616  199.99         False                  0  Hi-Fi Speakers  \n",
       "32     2493   15.99         False               1000  Hi-Fi Speakers  \n",
       "33     2391  128.00         False                  0  Hi-Fi Speakers  \n",
       "34       13  959.99         False                  0  Hi-Fi Speakers  \n",
       "35    11692  149.00         False                  0  Hi-Fi Speakers  \n",
       "36     2799  169.00          True                  0  Hi-Fi Speakers  \n",
       "37       15  368.99         False                  0  Hi-Fi Speakers  \n",
       "38     2452   74.99         False                  0  Hi-Fi Speakers  \n",
       "39     8625   39.95         False                  0  Hi-Fi Speakers  \n",
       "40     5053  184.99         False                  0  Hi-Fi Speakers  \n",
       "41     5422   95.00         False                  0  Hi-Fi Speakers  \n",
       "42     2776   39.99         False                  0  Hi-Fi Speakers  \n",
       "43     5622   38.39         False                  0  Hi-Fi Speakers  \n",
       "44    38692   49.99         False                  0  Hi-Fi Speakers  \n",
       "45    40628   17.99         False                  0  Hi-Fi Speakers  \n",
       "46    18958   89.99         False                  0  Hi-Fi Speakers  \n",
       "47     2408   29.99         False                  0  Hi-Fi Speakers  \n",
       "48      239  129.99         False                  0  Hi-Fi Speakers  \n",
       "49        7  628.50         False                  0  Hi-Fi Speakers  "
      ]
     },
     "execution_count": 9,
     "metadata": {},
     "output_type": "execute_result"
    }
   ],
   "source": [
    "df.head(50)"
   ]
  },
  {
   "cell_type": "code",
   "execution_count": 10,
   "id": "35c69eef-9b10-4d90-a110-b0929799dc13",
   "metadata": {},
   "outputs": [
    {
     "data": {
      "text/plain": [
       "(2443651, 9)"
      ]
     },
     "execution_count": 10,
     "metadata": {},
     "output_type": "execute_result"
    }
   ],
   "source": [
    "df.shape"
   ]
  },
  {
   "cell_type": "code",
   "execution_count": 11,
   "id": "dc42ff88-4e17-489a-94fb-13bd388d1aa3",
   "metadata": {},
   "outputs": [
    {
     "data": {
      "text/plain": [
       "Index(['asin', 'title', 'category'], dtype='object')"
      ]
     },
     "execution_count": 11,
     "metadata": {},
     "output_type": "execute_result"
    }
   ],
   "source": [
    "df.select_dtypes(\"object\").columns"
   ]
  },
  {
   "cell_type": "markdown",
   "id": "1e44e4d0-c02d-4e91-8f22-5e99d19844ed",
   "metadata": {},
   "source": [
    "# Understanding Product Categories"
   ]
  },
  {
   "cell_type": "markdown",
   "id": "b12c8b6a-20ea-449b-a085-c8e5e70157cb",
   "metadata": {},
   "source": [
    "# Business Question: What are the most popular product categories on Amazon UK, and how do they compare in terms of listing frequency?"
   ]
  },
  {
   "cell_type": "code",
   "execution_count": null,
   "id": "1064d67a-2d83-42bc-86e5-8f9c6fbedae2",
   "metadata": {},
   "outputs": [],
   "source": [
    "#Frequency Tables:\n",
    "\n",
    "#Generate a frequency table for the product category.\n",
    "#Which are the top 5 most listed product categories?\n",
    "#Answer: Sports and Outdoors, Beauty, Handmade Clothing, Shoes and Accessories, Bath and Body, and Birthday Gifts."
   ]
  },
  {
   "cell_type": "code",
   "execution_count": 26,
   "id": "6548f3ea-1541-4ce1-ac8b-08d1316319a5",
   "metadata": {},
   "outputs": [
    {
     "data": {
      "text/plain": [
       "(category\n",
       " Sports & Outdoors                         836265\n",
       " Beauty                                     19312\n",
       " Handmade Clothing, Shoes & Accessories     19229\n",
       " Bath & Body                                19092\n",
       " Birthday Gifts                             18978\n",
       "                                            ...  \n",
       " Alexa Built-In Devices                       107\n",
       " Motorbike Chassis                            107\n",
       " Plugs                                        107\n",
       " Smart Home Security & Lighting               104\n",
       " Smart Speakers                                54\n",
       " Name: count, Length: 296, dtype: int64,\n",
       " category\n",
       " Sports & Outdoors                         0.342219\n",
       " Beauty                                    0.007903\n",
       " Handmade Clothing, Shoes & Accessories    0.007869\n",
       " Bath & Body                               0.007813\n",
       " Birthday Gifts                            0.007766\n",
       "                                             ...   \n",
       " Alexa Built-In Devices                    0.000044\n",
       " Motorbike Chassis                         0.000044\n",
       " Plugs                                     0.000044\n",
       " Smart Home Security & Lighting            0.000043\n",
       " Smart Speakers                            0.000022\n",
       " Name: proportion, Length: 296, dtype: float64)"
      ]
     },
     "execution_count": 26,
     "metadata": {},
     "output_type": "execute_result"
    }
   ],
   "source": [
    "# Frequency table for the product category\n",
    "frequency_table = df['category'].value_counts()\n",
    "\n",
    "# Calculating the proportion of each unique value in the 'category'\n",
    "proportion_table = df['category'].value_counts(normalize=True)\n",
    "\n",
    "frequency_table, proportion_table\n",
    "#The frequency table gives the count of each zoning type, while the proportion table provides the percentage representation of each category in the dataset. \n",
    "#This helps to quickly identify dominant and minority categories."
   ]
  },
  {
   "cell_type": "code",
   "execution_count": null,
   "id": "ba0491bd-a453-488e-b216-1643f7b08731",
   "metadata": {},
   "outputs": [],
   "source": [
    "#Visualizations:\n",
    "\n",
    "#Display the distribution of products across different categories using a bar chart. \n",
    "#If you face problems understanding the chart, do it for a subset of top categories.\n",
    "#For a subset of top categories, visualize their proportions using a pie chart. Does any category dominate the listings?\n",
    "#Answer: Yes, Sports and Outdoors dominates the listing"
   ]
  },
  {
   "cell_type": "code",
   "execution_count": 27,
   "id": "6e9cece1-7742-4407-bc47-2f59e281bb96",
   "metadata": {},
   "outputs": [
    {
     "data": {
      "image/png": "[encoded data removed]",
      "text/plain": [
       "<Figure size 640x480 with 1 Axes>"
      ]
     },
     "metadata": {},
     "output_type": "display_data"
    }
   ],
   "source": [
    "# Plotting a bar chart using the values from the frequency table, with colors sourced from the \"Set3\" palette\n",
    "sns.barplot(x=frequency_table.index, y=frequency_table.values, palette=\"Set3\");"
   ]
  },
  {
   "cell_type": "code",
   "execution_count": 39,
   "id": "6120a324-8efb-463b-b76c-7183b67bf27f",
   "metadata": {},
   "outputs": [
    {
     "data": {
      "text/plain": [
       "category\n",
       "Sports & Outdoors                         836265\n",
       "Beauty                                     19312\n",
       "Handmade Clothing, Shoes & Accessories     19229\n",
       "Bath & Body                                19092\n",
       "Birthday Gifts                             18978\n",
       "Name: count, dtype: int64"
      ]
     },
     "execution_count": 39,
     "metadata": {},
     "output_type": "execute_result"
    }
   ],
   "source": [
    "subset = frequency_table[0:5] \n",
    "subset"
   ]
  },
  {
   "cell_type": "code",
   "execution_count": 99,
   "id": "b284ff96-49e1-44bf-a570-8587e32dfc21",
   "metadata": {},
   "outputs": [
    {
     "data": {
      "text/plain": [
       "(array([0, 1, 2, 3, 4]),\n",
       " [Text(0, 0, 'Sports & Outdoors'),\n",
       "  Text(1, 0, 'Beauty'),\n",
       "  Text(2, 0, 'Handmade Clothing, Shoes & Accessories'),\n",
       "  Text(3, 0, 'Bath & Body'),\n",
       "  Text(4, 0, 'Birthday Gifts')])"
      ]
     },
     "execution_count": 99,
     "metadata": {},
     "output_type": "execute_result"
    },
    {
     "data": {
      "image/png": "[encoded data removed]",
      "text/plain": [
       "<Figure size 640x480 with 1 Axes>"
      ]
     },
     "metadata": {},
     "output_type": "display_data"
    }
   ],
   "source": [
    "# Plotting a bar chart using the values from the frequency table, with colors sourced from the \"Set3\" palette\n",
    "sns.barplot(x=subset.index, y=subset.values, palette=\"Set3\")\n",
    "plt.xticks(rotation=90)"
   ]
  },
  {
   "cell_type": "code",
   "execution_count": 103,
   "id": "1b7affaa-e4b2-47cd-bf11-7a4702e01607",
   "metadata": {},
   "outputs": [
    {
     "data": {
      "text/plain": [
       "<Axes: ylabel='count'>"
      ]
     },
     "execution_count": 103,
     "metadata": {},
     "output_type": "execute_result"
    },
    {
     "data": {
      "image/png": "[encoded data removed]",
      "text/plain": [
       "<Figure size 800x800 with 1 Axes>"
      ]
     },
     "metadata": {},
     "output_type": "display_data"
    }
   ],
   "source": [
    "plt.figure(figsize=(8,8))\n",
    "df['category'].value_counts().head(5).plot.pie(autopct='%1.1f%%', startangle=90, colors=sns.color_palette(\"Set3\"))"
   ]
  },
  {
   "cell_type": "markdown",
   "id": "a89a82d4-906d-4077-9da6-4f741a48086d",
   "metadata": {},
   "source": [
    "# Part 2: Delving into Product Pricing"
   ]
  },
  {
   "cell_type": "markdown",
   "id": "774a3afe-7b84-4f2d-a8d5-177f60cfaaa8",
   "metadata": {},
   "source": [
    "# Business Question: How are products priced on Amazon UK, and are there specific price points or ranges that are more common?"
   ]
  },
  {
   "cell_type": "code",
   "execution_count": null,
   "id": "6f6fbdce-287f-4885-94d1-a7fd01c4f9cc",
   "metadata": {},
   "outputs": [],
   "source": [
    "#Measures of Centrality:\n",
    "\n",
    "#Calculate the mean, median, and mode for the price of products.\n",
    "#What's the average price point of products listed? How does this compare with the most common price point (mode)?\n",
    "#The avearge price point is signigicantly higher than the mode, which could mean that there is a presence of outliers and it is right and positively skewed\n",
    "#Measures of Dispersion:"
   ]
  },
  {
   "cell_type": "code",
   "execution_count": 47,
   "id": "84f6562d-4e4a-4462-828c-2572ecceb6ec",
   "metadata": {},
   "outputs": [
    {
     "data": {
      "text/html": [
       "<div>\n",
       "<style scoped>\n",
       "    .dataframe tbody tr th:only-of-type {\n",
       "        vertical-align: middle;\n",
       "    }\n",
       "\n",
       "    .dataframe tbody tr th {\n",
       "        vertical-align: top;\n",
       "    }\n",
       "\n",
       "    .dataframe thead th {\n",
       "        text-align: right;\n",
       "    }\n",
       "</style>\n",
       "<table border=\"1\" class=\"dataframe\">\n",
       "  <thead>\n",
       "    <tr style=\"text-align: right;\">\n",
       "      <th></th>\n",
       "      <th>uid</th>\n",
       "      <th>stars</th>\n",
       "      <th>reviews</th>\n",
       "      <th>price</th>\n",
       "      <th>boughtInLastMonth</th>\n",
       "    </tr>\n",
       "  </thead>\n",
       "  <tbody>\n",
       "    <tr>\n",
       "      <th>count</th>\n",
       "      <td>2.443651e+06</td>\n",
       "      <td>2.443651e+06</td>\n",
       "      <td>2.443651e+06</td>\n",
       "      <td>2.443651e+06</td>\n",
       "      <td>2.443651e+06</td>\n",
       "    </tr>\n",
       "    <tr>\n",
       "      <th>mean</th>\n",
       "      <td>1.370545e+06</td>\n",
       "      <td>2.152836e+00</td>\n",
       "      <td>4.806278e+02</td>\n",
       "      <td>8.924381e+01</td>\n",
       "      <td>2.589699e+01</td>\n",
       "    </tr>\n",
       "    <tr>\n",
       "      <th>std</th>\n",
       "      <td>8.160562e+05</td>\n",
       "      <td>2.194865e+00</td>\n",
       "      <td>5.944124e+03</td>\n",
       "      <td>3.456089e+02</td>\n",
       "      <td>2.404837e+02</td>\n",
       "    </tr>\n",
       "    <tr>\n",
       "      <th>min</th>\n",
       "      <td>1.000000e+00</td>\n",
       "      <td>0.000000e+00</td>\n",
       "      <td>0.000000e+00</td>\n",
       "      <td>0.000000e+00</td>\n",
       "      <td>0.000000e+00</td>\n",
       "    </tr>\n",
       "    <tr>\n",
       "      <th>25%</th>\n",
       "      <td>6.589215e+05</td>\n",
       "      <td>0.000000e+00</td>\n",
       "      <td>0.000000e+00</td>\n",
       "      <td>9.990000e+00</td>\n",
       "      <td>0.000000e+00</td>\n",
       "    </tr>\n",
       "    <tr>\n",
       "      <th>50%</th>\n",
       "      <td>1.349029e+06</td>\n",
       "      <td>0.000000e+00</td>\n",
       "      <td>0.000000e+00</td>\n",
       "      <td>1.909000e+01</td>\n",
       "      <td>0.000000e+00</td>\n",
       "    </tr>\n",
       "    <tr>\n",
       "      <th>75%</th>\n",
       "      <td>2.060686e+06</td>\n",
       "      <td>4.400000e+00</td>\n",
       "      <td>5.900000e+01</td>\n",
       "      <td>4.599000e+01</td>\n",
       "      <td>0.000000e+00</td>\n",
       "    </tr>\n",
       "    <tr>\n",
       "      <th>max</th>\n",
       "      <td>2.828593e+06</td>\n",
       "      <td>5.000000e+00</td>\n",
       "      <td>1.356658e+06</td>\n",
       "      <td>1.000000e+05</td>\n",
       "      <td>5.000000e+04</td>\n",
       "    </tr>\n",
       "  </tbody>\n",
       "</table>\n",
       "</div>"
      ],
      "text/plain": [
       "                uid         stars       reviews         price  \\\n",
       "count  2.443651e+06  2.443651e+06  2.443651e+06  2.443651e+06   \n",
       "mean   1.370545e+06  2.152836e+00  4.806278e+02  8.924381e+01   \n",
       "std    8.160562e+05  2.194865e+00  5.944124e+03  3.456089e+02   \n",
       "min    1.000000e+00  0.000000e+00  0.000000e+00  0.000000e+00   \n",
       "25%    6.589215e+05  0.000000e+00  0.000000e+00  9.990000e+00   \n",
       "50%    1.349029e+06  0.000000e+00  0.000000e+00  1.909000e+01   \n",
       "75%    2.060686e+06  4.400000e+00  5.900000e+01  4.599000e+01   \n",
       "max    2.828593e+06  5.000000e+00  1.356658e+06  1.000000e+05   \n",
       "\n",
       "       boughtInLastMonth  \n",
       "count       2.443651e+06  \n",
       "mean        2.589699e+01  \n",
       "std         2.404837e+02  \n",
       "min         0.000000e+00  \n",
       "25%         0.000000e+00  \n",
       "50%         0.000000e+00  \n",
       "75%         0.000000e+00  \n",
       "max         5.000000e+04  "
      ]
     },
     "execution_count": 47,
     "metadata": {},
     "output_type": "execute_result"
    }
   ],
   "source": [
    "df.describe()"
   ]
  },
  {
   "cell_type": "code",
   "execution_count": 49,
   "id": "34559a54-710b-48e9-b0e6-0eb841af832e",
   "metadata": {},
   "outputs": [
    {
     "data": {
      "text/plain": [
       "Index(['uid', 'asin', 'title', 'stars', 'reviews', 'price', 'isBestSeller',\n",
       "       'boughtInLastMonth', 'category'],\n",
       "      dtype='object')"
      ]
     },
     "execution_count": 49,
     "metadata": {},
     "output_type": "execute_result"
    }
   ],
   "source": [
    "df.columns"
   ]
  },
  {
   "cell_type": "code",
   "execution_count": 104,
   "id": "540011a5-f5dc-41e6-bcca-54f42e81edaf",
   "metadata": {},
   "outputs": [
    {
     "data": {
      "text/plain": [
       "89.24380943923663"
      ]
     },
     "execution_count": 104,
     "metadata": {},
     "output_type": "execute_result"
    }
   ],
   "source": [
    "df[\"price\"].mean()"
   ]
  },
  {
   "cell_type": "code",
   "execution_count": 105,
   "id": "171857e4-77df-4b80-9028-7b5eecbe5553",
   "metadata": {},
   "outputs": [
    {
     "data": {
      "text/plain": [
       "19.09"
      ]
     },
     "execution_count": 105,
     "metadata": {},
     "output_type": "execute_result"
    }
   ],
   "source": [
    "df[\"price\"].median()"
   ]
  },
  {
   "cell_type": "code",
   "execution_count": 106,
   "id": "152d2ba4-20b8-4633-81eb-7b851d269e08",
   "metadata": {},
   "outputs": [
    {
     "data": {
      "text/plain": [
       "0    9.99\n",
       "Name: price, dtype: float64"
      ]
     },
     "execution_count": 106,
     "metadata": {},
     "output_type": "execute_result"
    }
   ],
   "source": [
    "df[\"price\"].mode()\n",
    "#postive skew, mean larger than the median and mode...which means that the mean is streched by the outliers"
   ]
  },
  {
   "cell_type": "code",
   "execution_count": 107,
   "id": "84cd2edf-7845-47d5-b857-548aee146bc9",
   "metadata": {},
   "outputs": [
    {
     "data": {
      "text/plain": [
       "(119445.48532256528,\n",
       " 345.60886175352226,\n",
       " 0.0,\n",
       " 100000.0,\n",
       " 100000.0,\n",
       " 0.25     9.99\n",
       " 0.50    19.09\n",
       " 0.75    45.99\n",
       " Name: price, dtype: float64)"
      ]
     },
     "execution_count": 107,
     "metadata": {},
     "output_type": "execute_result"
    }
   ],
   "source": [
    "#Determine the variance, standard deviation, range, and interquartile range for product price.\n",
    "#How varied are the product prices? Are there any indicators of a significant spread in prices?\n",
    "#Answer: The variance, a measure of how far each sale price in the set is from the mean, is approximately (119445.5). \n",
    "#which is pretty high in comparison with the mean price, which means that prices are quite different from one another.\n",
    "#The range of product prices is $100000.This wide range underscores the diversity in product prices within the dataset.\n",
    "variance_price = df['price'].var()\n",
    "std_dev_price = df['price'].std()\n",
    "min_price = df['price'].min()\n",
    "max_price = df['price'].max()\n",
    "range_price = max_price - min_price\n",
    "quantiles_price = df['price'].quantile([0.25, 0.5, 0.75])\n",
    "\n",
    "variance_price, std_dev_price, min_price, max_price, range_price, quantiles_price"
   ]
  },
  {
   "cell_type": "code",
   "execution_count": 120,
   "id": "ba34ab39-4dd4-4aa0-bbd3-cc47048c4e1f",
   "metadata": {},
   "outputs": [
    {
     "data": {
      "text/plain": [
       "(45.99, 9.99)"
      ]
     },
     "execution_count": 120,
     "metadata": {},
     "output_type": "execute_result"
    }
   ],
   "source": [
    "quantiles_price1 = df['price'].quantile(0.25)\n",
    "quantiles_price3 = df['price'].quantile(0.75)\n",
    "\n",
    "quantiles_price3,quantiles_price1"
   ]
  },
  {
   "cell_type": "code",
   "execution_count": 121,
   "id": "48c4869a-2178-42e5-ac90-445994ea799e",
   "metadata": {},
   "outputs": [
    {
     "data": {
      "text/plain": [
       "36.0"
      ]
     },
     "execution_count": 121,
     "metadata": {},
     "output_type": "execute_result"
    }
   ],
   "source": [
    "iqr = (quantiles_price3 - quantiles_price1)\n",
    "iqr"
   ]
  },
  {
   "cell_type": "code",
   "execution_count": null,
   "id": "0ac781fd-da0b-4b51-91ad-502e85dd8ce8",
   "metadata": {},
   "outputs": [],
   "source": [
    "#iqr = df['price'].quantile([0.75 - 0.25])"
   ]
  },
  {
   "cell_type": "code",
   "execution_count": null,
   "id": "4ba8e2f9-2528-4691-bf61-1f10afe46529",
   "metadata": {},
   "outputs": [],
   "source": [
    "#Visualizations:\n",
    "\n",
    "#Is there a specific price range where most products fall? Plot a histogram to visualize the distribution of product prices. \n",
    "#If its hard to read these diagrams, think why this is, and explain how it could be solved..\n",
    "#Answer:The number of bins in the histogram is not appropriate for the dataset, it seems to have too many bins, which can make it difficult to interpret the pattern. \n",
    "#Adjusting the bin size would help solve this problem.\n",
    "#Also, the range of the data is also too large, causing the histogram to stretch.\n",
    "#Scaling or transforming the data can help visualize the distribution more effectively.\n",
    "#Are there products that are priced significantly higher than the rest? Use a box plot to showcase the spread and potential outliers in product pricing."
   ]
  },
  {
   "cell_type": "code",
   "execution_count": 83,
   "id": "b4c7aa2f-7adb-46ba-8146-024042da7f13",
   "metadata": {},
   "outputs": [
    {
     "name": "stderr",
     "output_type": "stream",
     "text": [
      "C:\\Users\\atakp\\anaconda3\\Lib\\site-packages\\seaborn\\_oldcore.py:1119: FutureWarning: use_inf_as_na option is deprecated and will be removed in a future version. Convert inf values to NaN before operating instead.\n",
      "  with pd.option_context('mode.use_inf_as_na', True):\n"
     ]
    },
    {
     "data": {
      "text/plain": [
       "<Axes: xlabel='price', ylabel='Count'>"
      ]
     },
     "execution_count": 83,
     "metadata": {},
     "output_type": "execute_result"
    },
    {
     "data": {
      "image/png": "[encoded data removed]",
      "text/plain": [
       "<Figure size 640x480 with 1 Axes>"
      ]
     },
     "metadata": {},
     "output_type": "display_data"
    }
   ],
   "source": [
    "sns.histplot(df['price'], kde=True, bins=30, color=\"blue\")"
   ]
  },
  {
   "cell_type": "code",
   "execution_count": 78,
   "id": "fdd41bfa-b8d6-4e19-8fb0-58ed23694b41",
   "metadata": {},
   "outputs": [
    {
     "data": {
      "text/plain": [
       "<Axes: >"
      ]
     },
     "execution_count": 78,
     "metadata": {},
     "output_type": "execute_result"
    },
    {
     "data": {
      "image/png": "[encoded data removed]",
      "text/plain": [
       "<Figure size 640x480 with 1 Axes>"
      ]
     },
     "metadata": {},
     "output_type": "display_data"
    }
   ],
   "source": [
    "sns.boxplot(data = df['price'], color=\"red\")\n",
    "#it seems like there are a lot of outliers concerning price, proving that there are products that are priced significantly higher than the rest."
   ]
  },
  {
   "cell_type": "markdown",
   "id": "aa47c6cd-dddf-4138-973e-7371ee682595",
   "metadata": {},
   "source": [
    "# Part 3: Unpacking Product Ratings"
   ]
  },
  {
   "cell_type": "markdown",
   "id": "a39d0cfa-1ed1-406d-b0db-a8a32be350fb",
   "metadata": {},
   "source": [
    "# Business Question: How do customers rate products on Amazon UK, and are there any patterns or tendencies in the ratings?"
   ]
  },
  {
   "cell_type": "code",
   "execution_count": 91,
   "id": "d0168a74-3fe3-40e3-bd58-16070fac1e32",
   "metadata": {},
   "outputs": [
    {
     "data": {
      "text/plain": [
       "(2.152836472966065,\n",
       " 0.0,\n",
       " 0    0.0\n",
       " Name: stars, dtype: float64)"
      ]
     },
     "execution_count": 91,
     "metadata": {},
     "output_type": "execute_result"
    }
   ],
   "source": [
    "#Measures of Centrality:\n",
    "\n",
    "#Calculate the mean, median, and mode for the rating of products.\n",
    "#How do customers generally rate products? Is there a common trend?negatively skewed, because the mean is larger than the median.\n",
    "\n",
    "re_mean = df[\"stars\"].mean()\n",
    "re_median = df[\"stars\"].median()\n",
    "re_mode = df[\"stars\"].mode()\n",
    "\n",
    "\n",
    "re_mean, re_median, re_mode"
   ]
  },
  {
   "cell_type": "code",
   "execution_count": 123,
   "id": "85c75a8a-e792-4073-8659-e33356a85d1a",
   "metadata": {},
   "outputs": [
    {
     "name": "stderr",
     "output_type": "stream",
     "text": [
      "<>:1: SyntaxWarning: 'float' object is not subscriptable; perhaps you missed a comma?\n",
      "<>:1: SyntaxWarning: 'float' object is not subscriptable; perhaps you missed a comma?\n",
      "C:\\Users\\atakp\\AppData\\Local\\Temp\\ipykernel_20524\\1909631956.py:1: SyntaxWarning: 'float' object is not subscriptable; perhaps you missed a comma?\n",
      "  re_mean2 = df[\"stars\"] !=0.0 [\"stars\"].mean()\n",
      "C:\\Users\\atakp\\AppData\\Local\\Temp\\ipykernel_20524\\1909631956.py:1: SyntaxWarning: 'float' object is not subscriptable; perhaps you missed a comma?\n",
      "  re_mean2 = df[\"stars\"] !=0.0 [\"stars\"].mean()\n",
      "C:\\Users\\atakp\\AppData\\Local\\Temp\\ipykernel_20524\\1909631956.py:1: SyntaxWarning: 'float' object is not subscriptable; perhaps you missed a comma?\n",
      "  re_mean2 = df[\"stars\"] !=0.0 [\"stars\"].mean()\n",
      "C:\\Users\\atakp\\AppData\\Local\\Temp\\ipykernel_20524\\1909631956.py:1: SyntaxWarning: 'float' object is not subscriptable; perhaps you missed a comma?\n",
      "  re_mean2 = df[\"stars\"] !=0.0 [\"stars\"].mean()\n",
      "C:\\Users\\atakp\\AppData\\Local\\Temp\\ipykernel_20524\\1909631956.py:1: SyntaxWarning: 'float' object is not subscriptable; perhaps you missed a comma?\n",
      "  re_mean2 = df[\"stars\"] !=0.0 [\"stars\"].mean()\n",
      "C:\\Users\\atakp\\AppData\\Local\\Temp\\ipykernel_20524\\1909631956.py:1: SyntaxWarning: 'float' object is not subscriptable; perhaps you missed a comma?\n",
      "  re_mean2 = df[\"stars\"] !=0.0 [\"stars\"].mean()\n",
      "C:\\Users\\atakp\\AppData\\Local\\Temp\\ipykernel_20524\\1909631956.py:1: SyntaxWarning: 'float' object is not subscriptable; perhaps you missed a comma?\n",
      "  re_mean2 = df[\"stars\"] !=0.0 [\"stars\"].mean()\n"
     ]
    },
    {
     "ename": "TypeError",
     "evalue": "'float' object is not subscriptable",
     "output_type": "error",
     "traceback": [
      "\u001b[1;31m---------------------------------------------------------------------------\u001b[0m",
      "\u001b[1;31mTypeError\u001b[0m                                 Traceback (most recent call last)",
      "Cell \u001b[1;32mIn[123], line 1\u001b[0m\n\u001b[1;32m----> 1\u001b[0m re_mean2 \u001b[38;5;241m=\u001b[39m df[\u001b[38;5;124m\"\u001b[39m\u001b[38;5;124mstars\u001b[39m\u001b[38;5;124m\"\u001b[39m] \u001b[38;5;241m!=\u001b[39m\u001b[38;5;241m0.0\u001b[39m [\u001b[38;5;124m\"\u001b[39m\u001b[38;5;124mstars\u001b[39m\u001b[38;5;124m\"\u001b[39m]\u001b[38;5;241m.\u001b[39mmean()\n",
      "\u001b[1;31mTypeError\u001b[0m: 'float' object is not subscriptable"
     ]
    }
   ],
   "source": [
    "re_mean2 = [df[\"stars\"] !=0.0 [\"stars\"].mean()"
   ]
  },
  {
   "cell_type": "code",
   "execution_count": 93,
   "id": "44dbf837-3a22-43a4-b218-43ea4afb4a08",
   "metadata": {},
   "outputs": [
    {
     "data": {
      "text/plain": [
       "(4.81743402976196,\n",
       " 2.1948653785054697,\n",
       " 0.0,\n",
       " 5.0,\n",
       " 5.0,\n",
       " 0.25    0.0\n",
       " 0.50    0.0\n",
       " 0.75    4.4\n",
       " Name: stars, dtype: float64)"
      ]
     },
     "execution_count": 93,
     "metadata": {},
     "output_type": "execute_result"
    }
   ],
   "source": [
    "#Measures of Dispersion:\n",
    "\n",
    "#Determine the variance, standard deviation, and interquartile range for product rating.\n",
    "#Are the ratings consistent, or is there a wide variation in customer feedback? wide variation, as the variance is practically twice the size of the mean.\n",
    "variance_rating = df['stars'].var()\n",
    "std_dev_rating = df['stars'].std()\n",
    "min_rating = df['stars'].min()\n",
    "max_rating = df['stars'].max()\n",
    "range_rating = max_rating- min_rating\n",
    "quantiles_rating = df['stars'].quantile([0.25, 0.5, 0.75])\n",
    "\n",
    "variance_rating, std_dev_rating, min_rating, max_rating, range_rating, quantiles_rating"
   ]
  },
  {
   "cell_type": "code",
   "execution_count": 126,
   "id": "e8727a63-2bc8-4e00-85b1-d67c5026336a",
   "metadata": {},
   "outputs": [
    {
     "data": {
      "text/plain": [
       "(4.4, 0.0)"
      ]
     },
     "execution_count": 126,
     "metadata": {},
     "output_type": "execute_result"
    }
   ],
   "source": [
    "quantiles_rating1 = df['stars'].quantile(0.25)\n",
    "quantiles_rating3 = df['stars'].quantile(0.75)\n",
    "\n",
    "quantiles_rating3,quantiles_rating1"
   ]
  },
  {
   "cell_type": "code",
   "execution_count": 127,
   "id": "3eebf953-4c34-4857-9696-049555b96eaa",
   "metadata": {},
   "outputs": [
    {
     "data": {
      "text/plain": [
       "4.4"
      ]
     },
     "execution_count": 127,
     "metadata": {},
     "output_type": "execute_result"
    }
   ],
   "source": [
    "iqr2 = (quantiles_rating3 - quantiles_rating1)\n",
    "iqr2"
   ]
  },
  {
   "cell_type": "code",
   "execution_count": 94,
   "id": "de4d3e43-2b7a-471a-bd36-6ab16727e55b",
   "metadata": {},
   "outputs": [
    {
     "data": {
      "text/plain": [
       "(0.08120735761080985, -1.9260061280432985)"
      ]
     },
     "execution_count": 94,
     "metadata": {},
     "output_type": "execute_result"
    }
   ],
   "source": [
    "#Shape of the Distribution:\n",
    "\n",
    "#Calculate the skewness and kurtosis for the rating column.\n",
    "#Are the ratings normally distributed, or do they lean towards higher or lower values?\n",
    "#Skewness: The positive value of skewness (0.081) for the 'rating' indicates that the distribution is right-skewed. \n",
    "#This means that the tail on the right side (higher ratings) is longer than the left side (lower ratings). \n",
    "#In practical terms, this suggests that there are a significant number of rating that are low,which are acting as outliers and pulling the mean upwards.\n",
    "\n",
    "#Kurtosis: The kurtosis value is less than 3, which indicates that the distribution has a shape relatively equivalent to a normal distribution. \n",
    "\n",
    "skewness_rating = df['stars'].skew()\n",
    "kurtosis_rating = df['stars'].kurtosis()\n",
    "\n",
    "skewness_rating, kurtosis_rating#"
   ]
  },
  {
   "cell_type": "code",
   "execution_count": 95,
   "id": "22e97646-b579-423f-adee-96079a389e88",
   "metadata": {},
   "outputs": [],
   "source": [
    "#Visualizations:\n",
    "\n",
    "#Plot a histogram to visualize the distribution of product ratings. Is there a specific rating that is more common?\n",
    "yes, zero."
   ]
  },
  {
   "cell_type": "code",
   "execution_count": 96,
   "id": "46e5e7b7-fa57-4603-a927-b5962438d7ab",
   "metadata": {},
   "outputs": [
    {
     "name": "stderr",
     "output_type": "stream",
     "text": [
      "C:\\Users\\atakp\\anaconda3\\Lib\\site-packages\\seaborn\\_oldcore.py:1119: FutureWarning: use_inf_as_na option is deprecated and will be removed in a future version. Convert inf values to NaN before operating instead.\n",
      "  with pd.option_context('mode.use_inf_as_na', True):\n"
     ]
    },
    {
     "data": {
      "text/plain": [
       "<Axes: xlabel='stars', ylabel='Count'>"
      ]
     },
     "execution_count": 96,
     "metadata": {},
     "output_type": "execute_result"
    },
    {
     "data": {
      "image/png": "[encoded data removed]",
      "text/plain": [
       "<Figure size 640x480 with 1 Axes>"
      ]
     },
     "metadata": {},
     "output_type": "display_data"
    }
   ],
   "source": [
    "sns.histplot(df['stars'], kde=True, bins=30, color=\"blue\")"
   ]
  },
  {
   "cell_type": "code",
   "execution_count": 132,
   "id": "8a1278ab-3f78-404d-9370-4f508566347c",
   "metadata": {},
   "outputs": [
    {
     "name": "stderr",
     "output_type": "stream",
     "text": [
      "C:\\Users\\atakp\\anaconda3\\Lib\\site-packages\\seaborn\\_oldcore.py:1119: FutureWarning: use_inf_as_na option is deprecated and will be removed in a future version. Convert inf values to NaN before operating instead.\n",
      "  with pd.option_context('mode.use_inf_as_na', True):\n"
     ]
    },
    {
     "data": {
      "text/plain": [
       "<Axes: ylabel='Count'>"
      ]
     },
     "execution_count": 132,
     "metadata": {},
     "output_type": "execute_result"
    },
    {
     "data": {
      "image/png": "[encoded data removed]",
      "text/plain": [
       "<Figure size 640x480 with 1 Axes>"
      ]
     },
     "metadata": {},
     "output_type": "display_data"
    }
   ],
   "source": [
    "sns.histplot(df[df['stars'] !=0.0], kde=True, bins=30, color=\"blue\")"
   ]
  }
 ],
 "metadata": {
  "kernelspec": {
   "display_name": "Python 3 (ipykernel)",
   "language": "python",
   "name": "python3"
  },
  "language_info": {
   "codemirror_mode": {
    "name": "ipython",
    "version": 3
   },
   "file_extension": ".py",
   "mimetype": "text/x-python",
   "name": "python",
   "nbconvert_exporter": "python",
   "pygments_lexer": "ipython3",
   "version": "3.11.7"
  }
 },
 "nbformat": 4,
 "nbformat_minor": 5
}
